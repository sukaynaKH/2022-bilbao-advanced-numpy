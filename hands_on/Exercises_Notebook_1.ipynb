{
 "cells": [
  {
   "cell_type": "markdown",
   "metadata": {
    "nteract": {
     "transient": {
      "deleting": false
     }
    }
   },
   "source": [
    "# ASPP 2021\n",
    "## Advanced Numpy Excercises Topics 1 and 2\n"
   ]
  },
  {
   "cell_type": "code",
   "execution_count": 1,
   "metadata": {
    "ExecuteTime": {
     "end_time": "2021-08-19T07:22:38.870317Z",
     "start_time": "2021-08-19T07:22:38.859891Z"
    },
    "execution": {
     "iopub.execute_input": "2021-08-22T04:37:07.809Z",
     "iopub.status.busy": "2021-08-22T04:37:07.800Z",
     "iopub.status.idle": "2021-08-22T04:37:07.820Z",
     "shell.execute_reply": "2021-08-22T04:37:07.826Z"
    },
    "jupyter": {
     "outputs_hidden": false,
     "source_hidden": false
    },
    "nteract": {
     "transient": {
      "deleting": false
     }
    }
   },
   "outputs": [],
   "source": [
    "# Make sure that plots are displayed in the notebook\n",
    "%matplotlib inline\n",
    "\n",
    "# plotting library\n",
    "from matplotlib import pyplot as plt\n",
    "# for obvious reasons\n",
    "import numpy as np\n",
    "\n",
    "# a small number of handy tools that may be useful for these exercises\n",
    "import tools\n",
    "\n",
    "# if you get stuck, try hints.gimme(exersize_nr)\n",
    "import hints "
   ]
  },
  {
   "cell_type": "markdown",
   "metadata": {
    "nteract": {
     "transient": {
      "deleting": false
     }
    }
   },
   "source": [
    "## Topic 1: Warmup to Numpy Arrays"
   ]
  },
  {
   "cell_type": "markdown",
   "metadata": {
    "nteract": {
     "transient": {
      "deleting": false
     }
    }
   },
   "source": [
    "**1.1** Create a random 10x10 numpy array and visualize it using the command `plt.matshow()`"
   ]
  },
  {
   "cell_type": "code",
   "execution_count": 2,
   "metadata": {
    "execution": {
     "iopub.execute_input": "2021-08-22T04:37:08.883Z",
     "iopub.status.busy": "2021-08-22T04:37:08.874Z",
     "iopub.status.idle": "2021-08-22T04:37:08.897Z",
     "shell.execute_reply": "2021-08-22T04:37:08.905Z"
    },
    "jupyter": {
     "outputs_hidden": false,
     "source_hidden": false
    },
    "nteract": {
     "transient": {
      "deleting": false
     }
    }
   },
   "outputs": [
    {
     "data": {
      "text/plain": [
       "<matplotlib.image.AxesImage at 0x7fd64cbc9990>"
      ]
     },
     "execution_count": 2,
     "metadata": {},
     "output_type": "execute_result"
    },
    {
     "data": {
      "image/png": "[encoded data removed]",
      "text/plain": [
       "<Figure size 288x288 with 1 Axes>"
      ]
     },
     "metadata": {
      "needs_background": "light"
     },
     "output_type": "display_data"
    }
   ],
   "source": [
    "# Solution Cell\n",
    "a = np.random.randint(1, 10, (10,10))\n",
    "plt.matshow(a)"
   ]
  },
  {
   "cell_type": "markdown",
   "metadata": {
    "nteract": {
     "transient": {
      "deleting": false
     }
    }
   },
   "source": [
    "**1.2** The scene: You are in a casino, playing roulette. You have decided your strategy will be to always bet on red. If you win, you gain 1€, if you lose you gain nothing. At each round you record your profit in a list.\n",
    "\n",
    "#!\n",
    "\n",
    "\n",
    "Simulate 1000 iterations of this: the probability of the ball landing on red is 50%. Try first to do it in a loop in Python without numpy. Then use Numpy to generate an array of ones and zeros. Which implementation wins the speed test?\n",
    "\n",
    "Use the function `timeit` in the local `tools` module.\n"
   ]
  },
  {
   "cell_type": "code",
   "execution_count": 32,
   "metadata": {
    "execution": {
     "iopub.execute_input": "2021-07-25T09:22:09.662Z",
     "iopub.status.busy": "2021-07-25T09:22:09.657Z",
     "iopub.status.idle": "2021-07-25T09:22:09.669Z",
     "shell.execute_reply": "2021-07-25T09:22:09.674Z"
    },
    "jupyter": {
     "outputs_hidden": false,
     "source_hidden": false
    },
    "nteract": {
     "transient": {
      "deleting": false
     }
    }
   },
   "outputs": [],
   "source": [
    "# Solution Cell\n",
    "import random\n",
    "\n",
    "# Write a function that takes the number of turns as an argument and adds a one or a zero to a list at each turn.\n",
    "def roulette_python(n_turns):\n",
    "    lst = []\n",
    "    for i in range(n_turns):\n",
    "        x = random.randint(0, 1)\n",
    "        lst.append(x)\n",
    "    #print(lst)"
   ]
  },
  {
   "cell_type": "code",
   "execution_count": 30,
   "metadata": {},
   "outputs": [
    {
     "name": "stdout",
     "output_type": "stream",
     "text": [
      "[1, 0, 1, 1, 0, 0, 0, 0, 0, 0]\n"
     ]
    }
   ],
   "source": [
    "roulette_python(10)"
   ]
  },
  {
   "cell_type": "code",
   "execution_count": 33,
   "metadata": {
    "execution": {
     "iopub.execute_input": "2021-07-25T09:22:10.061Z",
     "iopub.status.busy": "2021-07-25T09:22:10.020Z",
     "iopub.status.idle": "2021-07-25T09:22:15.507Z",
     "shell.execute_reply": "2021-07-25T09:22:15.523Z"
    },
    "jupyter": {
     "outputs_hidden": false,
     "source_hidden": false
    },
    "nteract": {
     "transient": {
      "deleting": false
     }
    }
   },
   "outputs": [
    {
     "name": "stdout",
     "output_type": "stream",
     "text": [
      "Timing 'Z=roulette_python(1000)'\n",
      "1.52 ms ± 0.0292 ms per loop (mean ± std. dev. of 7 runs, 1000 loops each)\n"
     ]
    }
   ],
   "source": [
    "# How long does it take?\n",
    "tools.timeit(\"Z=roulette_python(1000)\", globals())"
   ]
  },
  {
   "cell_type": "code",
   "execution_count": 13,
   "metadata": {
    "execution": {
     "iopub.execute_input": "2021-07-25T09:22:15.514Z",
     "iopub.status.busy": "2021-07-25T09:22:15.511Z",
     "iopub.status.idle": "2021-07-25T09:22:16.150Z",
     "shell.execute_reply": "2021-07-25T09:22:16.157Z"
    },
    "jupyter": {
     "outputs_hidden": false,
     "source_hidden": false
    },
    "nteract": {
     "transient": {
      "deleting": false
     }
    }
   },
   "outputs": [
    {
     "name": "stdout",
     "output_type": "stream",
     "text": [
      "Timing 'Z=np.random.uniform(0,1,1000)'\n",
      "25.5 us ± 0.186 us per loop (mean ± std. dev. of 7 runs, 100000 loops each)\n"
     ]
    }
   ],
   "source": [
    "# Find the numpy command that does the same thing in a vectorized way\n",
    "tools.timeit(\"Z=np.random.uniform(0,1,1000)\", globals())"
   ]
  },
  {
   "cell_type": "markdown",
   "metadata": {
    "nteract": {
     "transient": {
      "deleting": false
     }
    }
   },
   "source": [
    "### Cool, let's back up though and look at lists again for a minute:\n",
    "\n",
    "**1.3** The command `print(hex(id(my_list)))` shows you a hash that refers to the location in memory of `my_list`.\n",
    "\n",
    "Try these: \n",
    "\n",
    "a) make a list and check its hash. Then change an element of the list and check again. Does the location in memory change?\n",
    "\n",
    "b) make a tuple like `my_tuple=(1,2)`. Check the hash again. Is it possible to change it in the same way? If you redefine `my_tuple`, does the hash change?\n",
    "\n",
    "(c) try with other datatypes you can think of!)"
   ]
  },
  {
   "cell_type": "code",
   "execution_count": 19,
   "metadata": {
    "jupyter": {
     "outputs_hidden": false,
     "source_hidden": false
    },
    "nteract": {
     "transient": {
      "deleting": false
     }
    }
   },
   "outputs": [
    {
     "name": "stdout",
     "output_type": "stream",
     "text": [
      "0x7fd633655700\n",
      "0x7fd633655700\n",
      "\n",
      "0x7fd633646240\n",
      "0x7fd6337e5b80\n"
     ]
    }
   ],
   "source": [
    "# Solution Cell\n",
    "my_list = [\"apples\", \"bananas\", 23, 65, \"e\"]\n",
    "print(hex(id(my_list)))\n",
    "my_list[0] = 3\n",
    "print(hex(id(my_list)))\n",
    "\n",
    "print() \n",
    "\n",
    "my_tuple = (\"hey\", \"you\")\n",
    "print(hex(id(my_tuple)))\n",
    "my_tuple = (\"hello\", \"stranger\")\n",
    "print(hex(id(my_tuple)))"
   ]
  },
  {
   "cell_type": "markdown",
   "metadata": {
    "nteract": {
     "transient": {
      "deleting": false
     }
    }
   },
   "source": [
    "## Topic 2: Numpy Indexing"
   ]
  },
  {
   "cell_type": "markdown",
   "metadata": {
    "nteract": {
     "transient": {
      "deleting": false
     }
    }
   },
   "source": [
    "**2.1** Create another random 10x10 numpy array, like in 1.1. Now print the element in the fourth column and the fifth row."
   ]
  },
  {
   "cell_type": "code",
   "execution_count": 35,
   "metadata": {
    "jupyter": {
     "outputs_hidden": false,
     "source_hidden": false
    },
    "nteract": {
     "transient": {
      "deleting": false
     }
    }
   },
   "outputs": [
    {
     "name": "stdout",
     "output_type": "stream",
     "text": [
      "1\n",
      "\n",
      "[[6 4 9 1 5 7 7 1 8 3]\n",
      " [5 1 4 9 7 2 9 6 6 8]\n",
      " [7 6 7 3 2 3 4 2 2 4]\n",
      " [2 8 1 1 5 6 9 6 9 7]\n",
      " [5 3 8 1 1 9 1 4 1 5]\n",
      " [8 2 2 7 1 9 4 2 7 2]\n",
      " [4 4 5 7 7 9 2 1 3 2]\n",
      " [3 7 4 8 9 1 3 8 8 2]\n",
      " [3 9 2 9 5 6 3 5 4 2]\n",
      " [5 2 4 1 9 7 4 5 4 9]]\n",
      "\n",
      "[5 3 8 1 1 9 1 4 1 5]\n"
     ]
    }
   ],
   "source": [
    "# Solution Cell\n",
    "b = np.random.randint(1, 10, (10,10))\n",
    "print(b[4,3])\n",
    "print()\n",
    "print(b)\n",
    "print()\n",
    "print(b[4,:])"
   ]
  },
  {
   "cell_type": "markdown",
   "metadata": {
    "nteract": {
     "transient": {
      "deleting": false
     }
    }
   },
   "source": [
    "**2.2** Print the entire fifth row."
   ]
  },
  {
   "cell_type": "code",
   "execution_count": null,
   "metadata": {
    "collapsed": true,
    "jupyter": {
     "outputs_hidden": false,
     "source_hidden": false
    },
    "nteract": {
     "transient": {
      "deleting": false
     }
    }
   },
   "outputs": [],
   "source": [
    "# Solution Cell"
   ]
  },
  {
   "cell_type": "markdown",
   "metadata": {
    "nteract": {
     "transient": {
      "deleting": false
     }
    }
   },
   "source": [
    "### Wait! Don't run these cells!\n",
    "**2.3** Discuss with your partner before executing each cell- what will the output dimension be?"
   ]
  },
  {
   "cell_type": "code",
   "execution_count": 40,
   "metadata": {
    "execution": {
     "iopub.execute_input": "2021-07-27T09:10:06.822Z",
     "iopub.status.busy": "2021-07-27T09:10:06.815Z",
     "iopub.status.idle": "2021-07-27T09:10:06.835Z",
     "shell.execute_reply": "2021-07-27T09:10:06.839Z"
    },
    "jupyter": {
     "outputs_hidden": false,
     "source_hidden": false
    },
    "nteract": {
     "transient": {
      "deleting": false
     }
    }
   },
   "outputs": [
    {
     "data": {
      "text/plain": [
       "(5, 5, 5)"
      ]
     },
     "execution_count": 40,
     "metadata": {},
     "output_type": "execute_result"
    }
   ],
   "source": [
    "a=np.zeros((5,5,5))\n",
    "a.shape"
   ]
  },
  {
   "cell_type": "code",
   "execution_count": 38,
   "metadata": {
    "execution": {
     "iopub.execute_input": "2021-07-27T09:10:11.532Z",
     "iopub.status.busy": "2021-07-27T09:10:11.525Z",
     "iopub.status.idle": "2021-07-27T09:10:11.547Z",
     "shell.execute_reply": "2021-07-27T09:10:11.553Z"
    },
    "jupyter": {
     "outputs_hidden": false,
     "source_hidden": false
    },
    "nteract": {
     "transient": {
      "deleting": false
     }
    }
   },
   "outputs": [
    {
     "data": {
      "text/plain": [
       "array([[0., 0., 0.],\n",
       "       [0., 0., 0.],\n",
       "       [0., 0., 0.]])"
      ]
     },
     "execution_count": 38,
     "metadata": {},
     "output_type": "execute_result"
    }
   ],
   "source": [
    "a[1, ::2, ::2].shape\n",
    "a[1, ::2, ::2] # from, to, by"
   ]
  },
  {
   "cell_type": "code",
   "execution_count": 42,
   "metadata": {
    "execution": {
     "iopub.execute_input": "2021-07-27T09:10:25.992Z",
     "iopub.status.busy": "2021-07-27T09:10:25.985Z",
     "iopub.status.idle": "2021-07-27T09:10:26.007Z",
     "shell.execute_reply": "2021-07-27T09:10:26.013Z"
    },
    "jupyter": {
     "outputs_hidden": false,
     "source_hidden": false
    },
    "nteract": {
     "transient": {
      "deleting": false
     }
    }
   },
   "outputs": [
    {
     "data": {
      "text/plain": [
       "array([0., 0., 0.])"
      ]
     },
     "execution_count": 42,
     "metadata": {},
     "output_type": "execute_result"
    }
   ],
   "source": [
    "a=np.zeros((3,3))\n",
    "a[1,:].shape\n",
    "a[1,:]"
   ]
  },
  {
   "cell_type": "markdown",
   "metadata": {
    "nteract": {
     "transient": {
      "deleting": false
     }
    }
   },
   "source": [
    "**2.4** Now you want an irregular subset of data. \n",
    "\n",
    "a) Print the second and third column!\n",
    "\n",
    "b) Print every second row of the second and third column!"
   ]
  },
  {
   "cell_type": "code",
   "execution_count": 43,
   "metadata": {
    "execution": {
     "iopub.execute_input": "2021-08-22T04:40:35.357Z",
     "iopub.status.busy": "2021-08-22T04:40:35.350Z",
     "iopub.status.idle": "2021-08-22T04:40:35.432Z",
     "shell.execute_reply": "2021-08-22T04:40:35.439Z"
    },
    "jupyter": {
     "outputs_hidden": false,
     "source_hidden": false
    },
    "nteract": {
     "transient": {
      "deleting": false
     }
    }
   },
   "outputs": [
    {
     "data": {
      "text/plain": [
       "array([[0.85556121, 0.98013   , 0.06469898, 0.27050173, 0.35206891],\n",
       "       [0.68144697, 0.71897952, 0.70873858, 0.60492698, 0.5967675 ],\n",
       "       [0.63707099, 0.42227652, 0.4511017 , 0.30440984, 0.34027426],\n",
       "       [0.75246228, 0.14627784, 0.60563729, 0.18918971, 0.8697831 ],\n",
       "       [0.93524481, 0.76159265, 0.05252063, 0.86227006, 0.50730964]])"
      ]
     },
     "execution_count": 43,
     "metadata": {},
     "output_type": "execute_result"
    }
   ],
   "source": [
    "a = np.random.rand(5,5)\n",
    "a"
   ]
  },
  {
   "cell_type": "code",
   "execution_count": 46,
   "metadata": {
    "execution": {
     "iopub.execute_input": "2021-08-22T04:40:37.081Z",
     "iopub.status.busy": "2021-08-22T04:40:37.073Z",
     "iopub.status.idle": "2021-08-22T04:40:37.094Z",
     "shell.execute_reply": "2021-08-22T04:40:37.101Z"
    },
    "jupyter": {
     "outputs_hidden": false,
     "source_hidden": false
    },
    "nteract": {
     "transient": {
      "deleting": false
     }
    }
   },
   "outputs": [
    {
     "data": {
      "text/plain": [
       "array([[0.98013   , 0.06469898],\n",
       "       [0.42227652, 0.4511017 ],\n",
       "       [0.76159265, 0.05252063]])"
      ]
     },
     "execution_count": 46,
     "metadata": {},
     "output_type": "execute_result"
    }
   ],
   "source": [
    "# Solution Cell\n",
    "a[::2,1:3]"
   ]
  },
  {
   "cell_type": "markdown",
   "metadata": {
    "nteract": {
     "transient": {
      "deleting": false
     }
    }
   },
   "source": [
    "**2.5** Again, discuss with your partner before executing each cell- what will the output dimension be?"
   ]
  },
  {
   "cell_type": "code",
   "execution_count": 47,
   "metadata": {
    "execution": {
     "iopub.execute_input": "2021-07-27T09:19:41.639Z",
     "iopub.status.busy": "2021-07-27T09:19:41.632Z",
     "iopub.status.idle": "2021-07-27T09:19:41.656Z",
     "shell.execute_reply": "2021-07-27T09:19:41.664Z"
    },
    "jupyter": {
     "outputs_hidden": false,
     "source_hidden": false
    },
    "nteract": {
     "transient": {
      "deleting": false
     }
    }
   },
   "outputs": [
    {
     "data": {
      "text/plain": [
       "(2, 2)"
      ]
     },
     "execution_count": 47,
     "metadata": {},
     "output_type": "execute_result"
    }
   ],
   "source": [
    "a=np.zeros((5,5))\n",
    "a[[2,3], 2:4].shape"
   ]
  },
  {
   "cell_type": "code",
   "execution_count": 48,
   "metadata": {
    "execution": {
     "iopub.execute_input": "2021-07-27T09:19:46.127Z",
     "iopub.status.busy": "2021-07-27T09:19:46.119Z",
     "iopub.status.idle": "2021-07-27T09:19:46.146Z",
     "shell.execute_reply": "2021-07-27T09:19:46.153Z"
    },
    "jupyter": {
     "outputs_hidden": false,
     "source_hidden": false
    },
    "nteract": {
     "transient": {
      "deleting": false
     }
    }
   },
   "outputs": [
    {
     "data": {
      "text/plain": [
       "(2,)"
      ]
     },
     "execution_count": 48,
     "metadata": {},
     "output_type": "execute_result"
    }
   ],
   "source": [
    "a[[2,3], [2,3]].shape"
   ]
  }
 ],
 "metadata": {
  "hide_input": false,
  "kernel_info": {
   "name": "scenewalk"
  },
  "kernelspec": {
   "display_name": "Python 3 (ipykernel)",
   "language": "python",
   "name": "python3"
  },
  "language_info": {
   "codemirror_mode": {
    "name": "ipython",
    "version": 3
   },
   "file_extension": ".py",
   "mimetype": "text/x-python",
   "name": "python",
   "nbconvert_exporter": "python",
   "pygments_lexer": "ipython3",
   "version": "3.10.6"
  },
  "nteract": {
   "version": "0.28.0"
  },
  "toc": {
   "nav_menu": {
    "height": "120px",
    "width": "252px"
   },
   "navigate_menu": true,
   "number_sections": true,
   "sideBar": true,
   "threshold": 4,
   "toc_cell": false,
   "toc_section_display": "block",
   "toc_window_display": false
  }
 },
 "nbformat": 4,
 "nbformat_minor": 1
}
