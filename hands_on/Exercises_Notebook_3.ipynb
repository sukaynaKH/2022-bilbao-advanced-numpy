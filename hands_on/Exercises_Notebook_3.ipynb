{
 "cells": [
  {
   "cell_type": "markdown",
   "metadata": {
    "nteract": {
     "transient": {
      "deleting": false
     }
    }
   },
   "source": [
    "# ASPP 2021\n",
    "## Advanced Numpy Excercises Topic 3\n"
   ]
  },
  {
   "cell_type": "code",
   "execution_count": 1,
   "metadata": {
    "ExecuteTime": {
     "end_time": "2021-08-19T07:38:10.260671Z",
     "start_time": "2021-08-19T07:37:46.991561Z"
    },
    "execution": {
     "iopub.execute_input": "2021-07-27T13:08:16.848Z",
     "iopub.status.busy": "2021-07-27T13:08:16.842Z",
     "iopub.status.idle": "2021-07-27T13:08:16.857Z",
     "shell.execute_reply": "2021-07-27T13:08:16.861Z"
    },
    "jupyter": {
     "outputs_hidden": false,
     "source_hidden": false
    },
    "nteract": {
     "transient": {
      "deleting": false
     }
    }
   },
   "outputs": [],
   "source": [
    "# Make sure that plots are displayed in the notebook\n",
    "%matplotlib inline\n",
    "\n",
    "# plotting library\n",
    "from matplotlib import pyplot as plt\n",
    "# for obvious reasons\n",
    "import numpy as np\n",
    "# statistics\n",
    "import scipy.stats as stats\n",
    "\n",
    "# a plotting function we'll use in the notebook\n",
    "from plot_data import plot_data\n",
    "# a small number of handy tools that may be useful for these exercises\n",
    "import tools\n",
    "\n",
    "# if you get stuck, try hints.gimme(exersize_nr)\n",
    "import hints \n"
   ]
  },
  {
   "cell_type": "markdown",
   "metadata": {
    "nteract": {
     "transient": {
      "deleting": false
     }
    }
   },
   "source": [
    "Let's generate some data to play with"
   ]
  },
  {
   "cell_type": "code",
   "execution_count": 2,
   "metadata": {
    "ExecuteTime": {
     "end_time": "2021-08-19T07:42:09.347834Z",
     "start_time": "2021-08-19T07:42:09.339399Z"
    },
    "execution": {
     "iopub.execute_input": "2021-07-27T13:08:17.354Z",
     "iopub.status.busy": "2021-07-27T13:08:17.350Z",
     "iopub.status.idle": "2021-07-27T13:08:17.363Z",
     "shell.execute_reply": "2021-07-27T13:08:17.367Z"
    },
    "jupyter": {
     "outputs_hidden": false,
     "source_hidden": false
    },
    "nteract": {
     "transient": {
      "deleting": false
     }
    }
   },
   "outputs": [],
   "source": [
    "subj_mean = np.array([[2,3], [3,2], [15,1], [-12, 5]])\n",
    "n_samples=50\n",
    "data = np.zeros((len(subj_mean),n_samples))\n",
    "for i,m in enumerate(subj_mean):\n",
    "  distr = stats.norm(m[0],[m[1]])\n",
    "  data[i,:] = distr.rvs(n_samples)"
   ]
  },
  {
   "cell_type": "markdown",
   "metadata": {
    "nteract": {
     "transient": {
      "deleting": false
     }
    }
   },
   "source": [
    "Each row is populated with one subject's datapoints. There are 4 subjects and we have 50 data points for each of them."
   ]
  },
  {
   "cell_type": "code",
   "execution_count": 11,
   "metadata": {
    "ExecuteTime": {
     "end_time": "2021-08-19T07:42:10.980582Z",
     "start_time": "2021-08-19T07:42:10.009505Z"
    },
    "execution": {
     "iopub.execute_input": "2021-07-27T13:09:00.668Z",
     "iopub.status.busy": "2021-07-27T13:09:00.645Z",
     "iopub.status.idle": "2021-07-27T13:09:01.051Z",
     "shell.execute_reply": "2021-07-27T13:09:01.058Z"
    },
    "jupyter": {
     "outputs_hidden": false,
     "source_hidden": false
    },
    "nteract": {
     "transient": {
      "deleting": false
     }
    }
   },
   "outputs": [
    {
     "name": "stdout",
     "output_type": "stream",
     "text": [
      "10.047143246747382\n"
     ]
    },
    {
     "data": {
      "text/plain": [
       "(4, 50)"
      ]
     },
     "execution_count": 11,
     "metadata": {},
     "output_type": "execute_result"
    },
    {
     "data": {
      "image/png": "[encoded data removed]",
      "text/plain": [
       "<Figure size 720x360 with 3 Axes>"
      ]
     },
     "metadata": {
      "needs_background": "light"
     },
     "output_type": "display_data"
    }
   ],
   "source": [
    "fig, ax = plot_data(data)\n",
    "fig.savefig(\"cosineau_problem.png\", transparent=True)\n",
    "print(data.std())\n",
    "data.shape"
   ]
  },
  {
   "cell_type": "markdown",
   "metadata": {
    "nteract": {
     "transient": {
      "deleting": false
     }
    }
   },
   "source": [
    "**3.1** The procedure to find the Cosineau variance is as follows:\n",
    "\n",
    "1. Calculate the mean for each subject \n",
    "2. Calculate the overall mean across subjects\n",
    "3. Subtract each subject's mean from all of theirs data points\n",
    "4. Add the overall mean to each data point\n",
    "5. Compute the variance of the transformed data\n",
    "\n",
    "The `np.mean` function can take an argument `axis`. Use it to specify whether you want column or row means. \n",
    "\n",
    "Calculate the Cosineau variance without using a for loops, and visualize it.\n"
   ]
  },
  {
   "cell_type": "code",
   "execution_count": 25,
   "metadata": {
    "ExecuteTime": {
     "end_time": "2021-08-19T07:42:17.361022Z",
     "start_time": "2021-08-19T07:42:17.355885Z"
    },
    "execution": {
     "iopub.execute_input": "2021-07-27T12:37:32.428Z",
     "iopub.status.busy": "2021-07-27T12:37:32.424Z",
     "iopub.status.idle": "2021-07-27T12:37:32.439Z",
     "shell.execute_reply": "2021-07-27T12:37:32.443Z"
    },
    "jupyter": {
     "outputs_hidden": false,
     "source_hidden": false
    },
    "nteract": {
     "transient": {
      "deleting": false
     }
    }
   },
   "outputs": [
    {
     "data": {
      "text/plain": [
       "array([  1.59369124,   3.25883138,  14.84370884, -12.01469047])"
      ]
     },
     "execution_count": 25,
     "metadata": {},
     "output_type": "execute_result"
    }
   ],
   "source": [
    "# Solution Cell\n",
    "rowmean = np.mean(data,axis=1)\n",
    "rowmean"
   ]
  },
  {
   "cell_type": "code",
   "execution_count": 26,
   "metadata": {
    "ExecuteTime": {
     "end_time": "2021-08-19T07:42:19.933633Z",
     "start_time": "2021-08-19T07:42:19.515535Z"
    },
    "execution": {
     "iopub.execute_input": "2021-07-27T12:37:33.367Z",
     "iopub.status.busy": "2021-07-27T12:37:33.362Z",
     "iopub.status.idle": "2021-07-27T12:37:33.682Z",
     "shell.execute_reply": "2021-07-27T12:37:33.689Z"
    },
    "jupyter": {
     "outputs_hidden": false,
     "source_hidden": false
    },
    "nteract": {
     "transient": {
      "deleting": false
     }
    }
   },
   "outputs": [],
   "source": [
    "allmean = np.mean(data)"
   ]
  },
  {
   "cell_type": "code",
   "execution_count": 27,
   "metadata": {
    "jupyter": {
     "outputs_hidden": false,
     "source_hidden": false
    },
    "nteract": {
     "transient": {
      "deleting": false
     }
    }
   },
   "outputs": [
    {
     "name": "stdout",
     "output_type": "stream",
     "text": [
      "(4, 50)\n",
      "(4,)\n"
     ]
    }
   ],
   "source": [
    "print(data.shape, rowmean.shape, sep=\"\\n\")"
   ]
  },
  {
   "cell_type": "code",
   "execution_count": 29,
   "metadata": {},
   "outputs": [
    {
     "data": {
      "text/plain": [
       "array([[  1.59369124],\n",
       "       [  3.25883138],\n",
       "       [ 14.84370884],\n",
       "       [-12.01469047]])"
      ]
     },
     "execution_count": 29,
     "metadata": {},
     "output_type": "execute_result"
    }
   ],
   "source": [
    "rowmean.reshape(4,1)"
   ]
  },
  {
   "cell_type": "code",
   "execution_count": 33,
   "metadata": {},
   "outputs": [],
   "source": [
    "newdat = data - rowmean.reshape(4,1) + allmean"
   ]
  },
  {
   "cell_type": "code",
   "execution_count": 36,
   "metadata": {},
   "outputs": [
    {
     "data": {
      "text/plain": [
       "3.1891830817608824"
      ]
     },
     "execution_count": 36,
     "metadata": {},
     "output_type": "execute_result"
    }
   ],
   "source": [
    "np.std(newdat)"
   ]
  }
 ],
 "metadata": {
  "hide_input": false,
  "kernel_info": {
   "name": "scenewalk"
  },
  "kernelspec": {
   "display_name": "Python 3 (ipykernel)",
   "language": "python",
   "name": "python3"
  },
  "language_info": {
   "codemirror_mode": {
    "name": "ipython",
    "version": 3
   },
   "file_extension": ".py",
   "mimetype": "text/x-python",
   "name": "python",
   "nbconvert_exporter": "python",
   "pygments_lexer": "ipython3",
   "version": "3.10.6"
  },
  "nteract": {
   "version": "0.28.0"
  },
  "toc": {
   "nav_menu": {
    "height": "48px",
    "width": "252px"
   },
   "navigate_menu": true,
   "number_sections": true,
   "sideBar": true,
   "threshold": 4,
   "toc_cell": false,
   "toc_section_display": "block",
   "toc_window_display": false
  }
 },
 "nbformat": 4,
 "nbformat_minor": 1
}
